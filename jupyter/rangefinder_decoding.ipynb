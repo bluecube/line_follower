{
 "cells": [
  {
   "cell_type": "code",
   "execution_count": 1,
   "id": "89a34ea7-d857-4ad6-a509-a98954b2e1cd",
   "metadata": {
    "tags": []
   },
   "outputs": [],
   "source": [
    "from sympy import *\n",
    "from sympy.utilities.autowrap import ufuncify\n",
    "import scipy\n",
    "import numpy\n",
    "import itertools\n",
    "import matplotlib\n",
    "import matplotlib.pyplot as plt"
   ]
  },
  {
   "cell_type": "code",
   "execution_count": 2,
   "id": "79ef1aa1-5d65-4d24-b36d-c8cb27ab2c0a",
   "metadata": {
    "tags": []
   },
   "outputs": [
    {
     "name": "stdout",
     "output_type": "stream",
     "text": [
      "IPython console for SymPy 1.12 (Python 3.11.4-64-bit) (ground types: python)\n",
      "\n",
      "These commands were executed:\n",
      ">>> from sympy import *\n",
      ">>> x, y, z, t = symbols('x y z t')\n",
      ">>> k, m, n = symbols('k m n', integer=True)\n",
      ">>> f, g, h = symbols('f g h', cls=Function)\n",
      ">>> init_printing()\n",
      "\n",
      "Documentation can be found at https://docs.sympy.org/1.12/\n",
      "\n"
     ]
    }
   ],
   "source": [
    "init_session()"
   ]
  },
  {
   "cell_type": "code",
   "execution_count": 3,
   "id": "56524798-ab70-448d-9d74-2e2b6909bb5d",
   "metadata": {
    "tags": []
   },
   "outputs": [],
   "source": [
    "%matplotlib inline"
   ]
  },
  {
   "cell_type": "code",
   "execution_count": 4,
   "id": "c27c588b-2fbb-4714-aee8-3905d37ebfe9",
   "metadata": {
    "tags": []
   },
   "outputs": [],
   "source": [
    "def rational_func(x, n, m):\n",
    "    p_symbols = [symbols(f\"p{i}\") for i in range(n + 1)]\n",
    "    q_symbols = [symbols(f\"q{i}\") for i in range(1, n + 1)]\n",
    "    fun = sum(x**i * p_i for (i, p_i) in enumerate(p_symbols)) / (1 + sum(x**(i + 1) * q_i for (i, q_i) in enumerate(q_symbols)))\n",
    "    return fun, p_symbols, q_symbols"
   ]
  },
  {
   "cell_type": "code",
   "execution_count": 5,
   "id": "17af3f70-579c-47b8-86f7-8c9f8e9f0ce1",
   "metadata": {
    "tags": []
   },
   "outputs": [
    {
     "data": {
      "image/png": "[encoded data removed]",
      "text/latex": [
       "$\\displaystyle \\left( \\frac{p_{0} + p_{1} x + p_{2} x^{2}}{q_{1} x + q_{2} x^{2} + 1}, \\  \\left[ p_{0}, \\  p_{1}, \\  p_{2}\\right], \\  \\left[ q_{1}, \\  q_{2}\\right]\\right)$"
      ],
      "text/plain": [
       "⎛                2                        ⎞\n",
       "⎜p₀ + p₁⋅x + p₂⋅x                         ⎟\n",
       "⎜─────────────────, [p₀, p₁, p₂], [q₁, q₂]⎟\n",
       "⎜            2                            ⎟\n",
       "⎝ q₁⋅x + q₂⋅x  + 1                        ⎠"
      ]
     },
     "execution_count": 5,
     "metadata": {},
     "output_type": "execute_result"
    }
   ],
   "source": [
    "rational_func(x, 2, 2)"
   ]
  },
  {
   "cell_type": "code",
   "execution_count": 6,
   "id": "ea9de0d8-675f-4c82-8dcd-176653894be1",
   "metadata": {
    "tags": []
   },
   "outputs": [],
   "source": [
    "data = {\n",
    "    \"White box\": [\n",
    "        (3298.985, 100),\n",
    "        (3992.491, 110),\n",
    "        (4018.505, 130),\n",
    "        (3091.246, 150),\n",
    "        (2043.096, 200),\n",
    "        (1509.625, 250),\n",
    "        (1212.740, 300),\n",
    "        (983.872, 350),\n",
    "        (838.098, 400),\n",
    "        (620.787, 500),\n",
    "        (511.853, 600),\n",
    "        (449.602, 700),\n",
    "        (400.158, 800),\n",
    "        (396.278, 900),\n",
    "        (254, 1200),\n",
    "    ],\n",
    "    \n",
    "    \"Red envelope\": [\n",
    "        (3287, 100),\n",
    "        (3850, 110),\n",
    "        (4082, 120),\n",
    "        (2059, 200),\n",
    "        (1190, 300),\n",
    "        (796, 400),\n",
    "        (594, 500),\n",
    "        (341, 700),\n",
    "        (249, 800),\n",
    "        (195, 900),\n",
    "    ],\n",
    "    \n",
    "    \n",
    "    \"Red envelope 2\": [\n",
    "        (3263, 100),\n",
    "        (3091, 150),\n",
    "        (2065, 200),\n",
    "        (1509, 250),\n",
    "        (1213, 300),\n",
    "        (983, 350),\n",
    "        (816, 400),\n",
    "        (619, 500),\n",
    "        (492, 600),\n",
    "        (348, 800),\n",
    "        (277, 1000),\n",
    "        (251, 1200),\n",
    "        (233, 1400),\n",
    "    ],\n",
    "    \n",
    "    \"Black IFixit box\": [\n",
    "        (3623, 100),\n",
    "        (4082, 110),\n",
    "        (4084, 115),\n",
    "        (4083, 120),\n",
    "        (3928, 130),\n",
    "        (3041, 150),\n",
    "        (2005, 200),\n",
    "        (1485, 250),\n",
    "        (1195, 300),\n",
    "        (840, 400),\n",
    "        (636, 500),\n",
    "        (605, 600),\n",
    "        (541, 700),\n",
    "        (500, 800),\n",
    "        (490, 900),\n",
    "        (479, 1000),\n",
    "        (505, 1200),\n",
    "    ],\n",
    "    \n",
    "    \"Brown tissue box\": [\n",
    "        (3365, 100),\n",
    "        (4008, 110),\n",
    "        (4084, 120),\n",
    "        (4058, 130),\n",
    "        (3188, 150),\n",
    "        (2621, 170),\n",
    "        (2101, 200),\n",
    "        (1532, 250),\n",
    "        (1213, 300),\n",
    "        (984, 350),\n",
    "        (838, 400),\n",
    "        (630, 500),\n",
    "        (510, 600),\n",
    "        (434, 700),\n",
    "        (385, 800),\n",
    "        (342, 900),\n",
    "        (330, 1000),\n",
    "        (305, 1200),\n",
    "    ]\n",
    "}"
   ]
  },
  {
   "cell_type": "code",
   "execution_count": 7,
   "id": "ec1eeafe-969a-4919-b7ab-8686e7fce98f",
   "metadata": {
    "tags": []
   },
   "outputs": [
    {
     "data": {
      "image/png": "[encoded data removed]",
      "text/latex": [
       "$\\displaystyle 73$"
      ],
      "text/plain": [
       "73"
      ]
     },
     "execution_count": 7,
     "metadata": {},
     "output_type": "execute_result"
    }
   ],
   "source": [
    "xs = numpy.fromiter(\n",
    "    itertools.chain.from_iterable(\n",
    "        (data_point[0] for data_point in data_segment)\n",
    "        for data_segment in data.values()\n",
    "    ),\n",
    "    dtype=float\n",
    ")\n",
    "ys = numpy.fromiter(\n",
    "    itertools.chain.from_iterable(\n",
    "        (data_point[1] for data_point in data_segment)\n",
    "        for data_segment in data.values()\n",
    "    ),\n",
    "    dtype=float\n",
    ")\n",
    "len(xs)"
   ]
  },
  {
   "cell_type": "code",
   "execution_count": 8,
   "id": "d257a2d7-5431-4bbe-ae45-9115dc177b4a",
   "metadata": {
    "tags": []
   },
   "outputs": [],
   "source": [
    "interpolation_func, p_params, q_params = rational_func(x, 2, 2)\n",
    "interpolation_ufunc = ufuncify([x] + p_params + q_params, interpolation_func)"
   ]
  },
  {
   "cell_type": "code",
   "execution_count": 9,
   "id": "6c403ec6-cb5d-402f-a98e-a9bd2c1b854b",
   "metadata": {
    "tags": []
   },
   "outputs": [
    {
     "data": {
      "text/plain": [
       "(array([-2.49728023e+09,  1.39483370e+07,  9.52460484e+02, -6.42805150e+03,\n",
       "         4.04103738e+01]),\n",
       " array([[ 1.42045398e+30, -7.93381890e+27, -5.41759109e+23,\n",
       "          3.65627459e+24, -2.29854290e+22],\n",
       "        [-7.93381890e+27,  4.43136373e+25,  3.02594714e+21,\n",
       "         -2.04217954e+22,  1.28383062e+20],\n",
       "        [-5.41759109e+23,  3.02594714e+21,  2.06626147e+17,\n",
       "         -1.39449788e+18,  8.76660961e+15],\n",
       "        [ 3.65627459e+24, -2.04217954e+22, -1.39449788e+18,\n",
       "          9.41131786e+18, -5.91649157e+16],\n",
       "        [-2.29854290e+22,  1.28383062e+20,  8.76660961e+15,\n",
       "         -5.91649157e+16,  3.71944429e+14]]))"
      ]
     },
     "execution_count": 9,
     "metadata": {},
     "output_type": "execute_result"
    }
   ],
   "source": [
    "scipy.optimize.curve_fit(\n",
    "    interpolation_ufunc,\n",
    "    xs, ys,\n",
    "    [numpy.average(ys)] + [0] * (len(p_params) + len(q_params) - 1), # Initial guess is just average value,\n",
    ")"
   ]
  },
  {
   "cell_type": "code",
   "execution_count": 10,
   "id": "e7d190ed-c7d7-4b9c-b037-75baba83ea5f",
   "metadata": {
    "tags": []
   },
   "outputs": [
    {
     "data": {
      "image/png": "[encoded data removed]",
      "text/plain": [
       "<Figure size 640x480 with 1 Axes>"
      ]
     },
     "metadata": {},
     "output_type": "display_data"
    }
   ],
   "source": [
    "fig, ax = plt.subplots()\n",
    "handles = []\n",
    "\n",
    "for key, values in data.items():\n",
    "    x_coords, y_coords = zip(*values)\n",
    "    scatter = ax.scatter(x_coords, y_coords, label=key)\n",
    "    handles.append(scatter)\n",
    "\n",
    "ax.legend(handles=handles)\n",
    "#ax.set_yscale('log')\n",
    "#ax.yaxis.set_major_formatter(matplotlib.ticker.ScalarFormatter(useOffset=False, useMathText=True))\n",
    "plt.show()"
   ]
  }
 ],
 "metadata": {
  "kernelspec": {
   "display_name": "Python 3 (ipykernel)",
   "language": "python",
   "name": "python3"
  },
  "language_info": {
   "codemirror_mode": {
    "name": "ipython",
    "version": 3
   },
   "file_extension": ".py",
   "mimetype": "text/x-python",
   "name": "python",
   "nbconvert_exporter": "python",
   "pygments_lexer": "ipython3",
   "version": "3.11.4"
  }
 },
 "nbformat": 4,
 "nbformat_minor": 5
}
