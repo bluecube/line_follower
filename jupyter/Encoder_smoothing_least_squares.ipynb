{
 "cells": [
  {
   "cell_type": "markdown",
   "id": "34d7533a",
   "metadata": {},
   "source": [
    "# Encoder Smoothing least squares fit"
   ]
  },
  {
   "cell_type": "code",
   "execution_count": 1,
   "id": "6f79f44d",
   "metadata": {},
   "outputs": [],
   "source": [
    "import sympy\n",
    "import math"
   ]
  },
  {
   "cell_type": "code",
   "execution_count": 2,
   "id": "74e4576a",
   "metadata": {},
   "outputs": [
    {
     "name": "stdout",
     "output_type": "stream",
     "text": [
      "IPython console for SymPy 1.11.1 (Python 3.10.11-64-bit) (ground types: python)\n",
      "\n",
      "These commands were executed:\n",
      ">>> from sympy import *\n",
      ">>> x, y, z, t = symbols('x y z t')\n",
      ">>> k, m, n = symbols('k m n', integer=True)\n",
      ">>> f, g, h = symbols('f g h', cls=Function)\n",
      ">>> init_printing()\n",
      "\n",
      "Documentation can be found at https://docs.sympy.org/1.11.1/\n",
      "\n"
     ]
    }
   ],
   "source": [
    "sympy.init_session()"
   ]
  },
  {
   "cell_type": "code",
   "execution_count": 3,
   "id": "bbf72ec3",
   "metadata": {},
   "outputs": [],
   "source": [
    "def display_dict(d):\n",
    "    \"\"\" Display a dict of variable: expression (eg. a result of solve)\"\"\"\n",
    "    for v, expr in d.items():\n",
    "        display(Eq(v, expr))"
   ]
  },
  {
   "cell_type": "code",
   "execution_count": 4,
   "id": "fbfd8f78",
   "metadata": {},
   "outputs": [],
   "source": [
    "def factor_sums(expr):\n",
    "    def cSum(s):\n",
    "      con, dep = factor_terms(s.function.as_independent(*s.variables))\n",
    "      return con*Sum(dep, *s.args[1:])\n",
    "\n",
    "    return expr.expand().replace(lambda s: isinstance(s, Sum), lambda s: cSum(s))"
   ]
  },
  {
   "cell_type": "code",
   "execution_count": 5,
   "id": "12e86998",
   "metadata": {},
   "outputs": [
    {
     "data": {
      "image/png": "[encoded data removed]",
      "text/latex": [
       "$\\displaystyle Δt$"
      ],
      "text/plain": [
       "Δt"
      ]
     },
     "execution_count": 5,
     "metadata": {},
     "output_type": "execute_result"
    }
   ],
   "source": [
    "dt = Symbol(\"Δt\")\n",
    "dt"
   ]
  },
  {
   "cell_type": "code",
   "execution_count": 6,
   "id": "72c130e9",
   "metadata": {},
   "outputs": [
    {
     "data": {
      "image/png": "[encoded data removed]",
      "text/latex": [
       "$\\displaystyle \\left( a, \\  v, \\  x, \\  p_{0}, \\  p_{1}, \\  p_{2}, \\  s_{t}, \\  s_{t2}, \\  s_{t3}, \\  s_{t4}, \\  s_{y}, \\  s_{ty}, \\  s_{t2y}, \\  s_{iy}, \\  s_{i2y}\\right)$"
      ],
      "text/plain": [
       "(a, v, x, p₀, p₁, p₂, sₜ, sₜ₂, sₜ₃, sₜ₄, s_y, s_ty, s_t2y, s_iy, s_i2y)"
      ]
     },
     "execution_count": 6,
     "metadata": {},
     "output_type": "execute_result"
    }
   ],
   "source": [
    "var(\"a, v, x, p0, p1, p2, s_t, s_t2, s_t3, s_t4, s_y, s_ty, s_t2y, s_iy, s_i2y\", real=True)"
   ]
  },
  {
   "cell_type": "code",
   "execution_count": 7,
   "id": "3f7faeb7",
   "metadata": {},
   "outputs": [
    {
     "data": {
      "image/png": "[encoded data removed]",
      "text/latex": [
       "$\\displaystyle \\left( i, \\  k\\right)$"
      ],
      "text/plain": [
       "(i, k)"
      ]
     },
     "execution_count": 7,
     "metadata": {},
     "output_type": "execute_result"
    }
   ],
   "source": [
    "var(\"i, k\", integer=True)"
   ]
  },
  {
   "cell_type": "code",
   "execution_count": 8,
   "id": "feddbf83",
   "metadata": {},
   "outputs": [],
   "source": [
    "y = Function(\"y\", real=True)"
   ]
  },
  {
   "cell_type": "code",
   "execution_count": 9,
   "id": "f97d120e",
   "metadata": {},
   "outputs": [],
   "source": [
    "t = Function(\"t\", real=True)"
   ]
  },
  {
   "cell_type": "code",
   "execution_count": 10,
   "id": "4bd3242f",
   "metadata": {},
   "outputs": [],
   "source": [
    "def interpolation_function(t):\n",
    "    return p0 + p1 * t# + p2 * t**2"
   ]
  },
  {
   "cell_type": "code",
   "execution_count": 11,
   "id": "646e9486",
   "metadata": {},
   "outputs": [],
   "source": [
    "variables = [p0, p1, p2]"
   ]
  },
  {
   "cell_type": "code",
   "execution_count": 12,
   "id": "5f8fda4a",
   "metadata": {
    "scrolled": true
   },
   "outputs": [
    {
     "data": {
      "image/png": "[encoded data removed]",
      "text/latex": [
       "$\\displaystyle p_{1}$"
      ],
      "text/plain": [
       "p₁"
      ]
     },
     "execution_count": 12,
     "metadata": {},
     "output_type": "execute_result"
    }
   ],
   "source": [
    "velocity = diff(interpolation_function(x), x).subs(x, 0)\n",
    "velocity"
   ]
  },
  {
   "cell_type": "code",
   "execution_count": 13,
   "id": "dacce9a4",
   "metadata": {},
   "outputs": [
    {
     "data": {
      "image/png": "[encoded data removed]",
      "text/latex": [
       "$\\displaystyle \\sum_{i=0}^{k - 1} \\left(p_{0} + p_{1} t{\\left(i \\right)} - y{\\left(i \\right)}\\right)^{2}$"
      ],
      "text/plain": [
       "k - 1                       \n",
       " ___                        \n",
       " ╲                          \n",
       "  ╲                        2\n",
       "  ╱   (p₀ + p₁⋅t(i) - y(i)) \n",
       " ╱                          \n",
       " ‾‾‾                        \n",
       "i = 0                       "
      ]
     },
     "execution_count": 13,
     "metadata": {},
     "output_type": "execute_result"
    }
   ],
   "source": [
    "error = Sum((interpolation_function(t(i)) - y(i))**2, (i, 0, k-1))\n",
    "error"
   ]
  },
  {
   "cell_type": "code",
   "execution_count": 14,
   "id": "8bd13abb",
   "metadata": {},
   "outputs": [],
   "source": [
    "#error = error.subs(y(i), (y(i) - y(i - 1)))\n",
    "#error"
   ]
  },
  {
   "cell_type": "code",
   "execution_count": 15,
   "id": "43a95e2c",
   "metadata": {},
   "outputs": [
    {
     "data": {
      "image/png": "[encoded data removed]",
      "text/latex": [
       "$\\displaystyle \\left[ 2 k p_{0} + 2 p_{1} \\sum_{i=0}^{k - 1} t{\\left(i \\right)} - 2 \\sum_{i=0}^{k - 1} y{\\left(i \\right)}, \\  2 p_{0} \\sum_{i=0}^{k - 1} t{\\left(i \\right)} + 2 p_{1} \\sum_{i=0}^{k - 1} t^{2}{\\left(i \\right)} - 2 \\sum_{i=0}^{k - 1} t{\\left(i \\right)} y{\\left(i \\right)}, \\  0\\right]$"
      ],
      "text/plain": [
       "⎡              k - 1          k - 1            k - 1             k - 1        \n",
       "⎢               ___            ___              ___               ___         \n",
       "⎢               ╲              ╲                ╲                 ╲           \n",
       "⎢                ╲              ╲                ╲                 ╲    2     \n",
       "⎢2⋅k⋅p₀ + 2⋅p₁⋅  ╱   t(i) - 2⋅  ╱   y(i), 2⋅p₀⋅  ╱   t(i) + 2⋅p₁⋅  ╱   t (i) -\n",
       "⎢               ╱              ╱                ╱                 ╱           \n",
       "⎢               ‾‾‾            ‾‾‾              ‾‾‾               ‾‾‾         \n",
       "⎣              i = 0          i = 0            i = 0             i = 0        \n",
       "\n",
       "   k - 1             ⎤\n",
       "    ___              ⎥\n",
       "    ╲                ⎥\n",
       "     ╲               ⎥\n",
       " 2⋅  ╱   t(i)⋅y(i), 0⎥\n",
       "    ╱                ⎥\n",
       "    ‾‾‾              ⎥\n",
       "   i = 0             ⎦"
      ]
     },
     "execution_count": 15,
     "metadata": {},
     "output_type": "execute_result"
    }
   ],
   "source": [
    "eqs = [factor_sums(diff(error, var)).doit() for var in variables]\n",
    "eqs"
   ]
  },
  {
   "cell_type": "code",
   "execution_count": 16,
   "id": "43688d85",
   "metadata": {},
   "outputs": [
    {
     "data": {
      "image/png": "[encoded data removed]",
      "text/latex": [
       "$\\displaystyle p_{0} = - \\frac{\\left(\\sum_{i=0}^{k - 1} t{\\left(i \\right)} y{\\left(i \\right)}\\right) \\sum_{i=0}^{k - 1} t{\\left(i \\right)}}{k \\sum_{i=0}^{k - 1} t^{2}{\\left(i \\right)} - \\left(\\sum_{i=0}^{k - 1} t{\\left(i \\right)}\\right)^{2}} + \\frac{\\left(\\sum_{i=0}^{k - 1} t^{2}{\\left(i \\right)}\\right) \\sum_{i=0}^{k - 1} y{\\left(i \\right)}}{k \\sum_{i=0}^{k - 1} t^{2}{\\left(i \\right)} - \\left(\\sum_{i=0}^{k - 1} t{\\left(i \\right)}\\right)^{2}}$"
      ],
      "text/plain": [
       "         k - 1           k - 1             k - 1       k - 1        \n",
       "          ___             ___               ___         ___         \n",
       "          ╲               ╲                 ╲           ╲           \n",
       "           ╲               ╲                 ╲    2      ╲          \n",
       "           ╱   t(i)⋅y(i)⋅  ╱   t(i)          ╱   t (i)⋅  ╱   y(i)   \n",
       "          ╱               ╱                 ╱           ╱           \n",
       "          ‾‾‾             ‾‾‾               ‾‾‾         ‾‾‾         \n",
       "         i = 0           i = 0             i = 0       i = 0        \n",
       "p₀ = - ───────────────────────────── + ─────────────────────────────\n",
       "                                   2                               2\n",
       "         k - 1         ⎛k - 1     ⎞      k - 1         ⎛k - 1     ⎞ \n",
       "          ___          ⎜ ___      ⎟       ___          ⎜ ___      ⎟ \n",
       "          ╲            ⎜ ╲        ⎟       ╲            ⎜ ╲        ⎟ \n",
       "           ╲    2      ⎜  ╲       ⎟        ╲    2      ⎜  ╲       ⎟ \n",
       "       k⋅  ╱   t (i) - ⎜  ╱   t(i)⎟    k⋅  ╱   t (i) - ⎜  ╱   t(i)⎟ \n",
       "          ╱            ⎜ ╱        ⎟       ╱            ⎜ ╱        ⎟ \n",
       "          ‾‾‾          ⎜ ‾‾‾      ⎟       ‾‾‾          ⎜ ‾‾‾      ⎟ \n",
       "         i = 0         ⎝i = 0     ⎠      i = 0         ⎝i = 0     ⎠ "
      ]
     },
     "metadata": {},
     "output_type": "display_data"
    },
    {
     "data": {
      "image/png": "[encoded data removed]",
      "text/latex": [
       "$\\displaystyle p_{1} = \\frac{k \\sum_{i=0}^{k - 1} t{\\left(i \\right)} y{\\left(i \\right)}}{k \\sum_{i=0}^{k - 1} t^{2}{\\left(i \\right)} - \\left(\\sum_{i=0}^{k - 1} t{\\left(i \\right)}\\right)^{2}} - \\frac{\\left(\\sum_{i=0}^{k - 1} t{\\left(i \\right)}\\right) \\sum_{i=0}^{k - 1} y{\\left(i \\right)}}{k \\sum_{i=0}^{k - 1} t^{2}{\\left(i \\right)} - \\left(\\sum_{i=0}^{k - 1} t{\\left(i \\right)}\\right)^{2}}$"
      ],
      "text/plain": [
       "             k - 1                       k - 1      k - 1         \n",
       "              ___                         ___        ___          \n",
       "              ╲                           ╲          ╲            \n",
       "               ╲                           ╲          ╲           \n",
       "           k⋅  ╱   t(i)⋅y(i)               ╱   t(i)⋅  ╱   y(i)    \n",
       "              ╱                           ╱          ╱            \n",
       "              ‾‾‾                         ‾‾‾        ‾‾‾          \n",
       "             i = 0                       i = 0      i = 0         \n",
       "p₁ = ───────────────────────────── - ─────────────────────────────\n",
       "                                 2                               2\n",
       "       k - 1         ⎛k - 1     ⎞      k - 1         ⎛k - 1     ⎞ \n",
       "        ___          ⎜ ___      ⎟       ___          ⎜ ___      ⎟ \n",
       "        ╲            ⎜ ╲        ⎟       ╲            ⎜ ╲        ⎟ \n",
       "         ╲    2      ⎜  ╲       ⎟        ╲    2      ⎜  ╲       ⎟ \n",
       "     k⋅  ╱   t (i) - ⎜  ╱   t(i)⎟    k⋅  ╱   t (i) - ⎜  ╱   t(i)⎟ \n",
       "        ╱            ⎜ ╱        ⎟       ╱            ⎜ ╱        ⎟ \n",
       "        ‾‾‾          ⎜ ‾‾‾      ⎟       ‾‾‾          ⎜ ‾‾‾      ⎟ \n",
       "       i = 0         ⎝i = 0     ⎠      i = 0         ⎝i = 0     ⎠ "
      ]
     },
     "metadata": {},
     "output_type": "display_data"
    }
   ],
   "source": [
    "solution = solve(eqs, variables)\n",
    "display_dict(solution)"
   ]
  },
  {
   "cell_type": "code",
   "execution_count": 17,
   "id": "0c91585a",
   "metadata": {},
   "outputs": [
    {
     "data": {
      "image/png": "[encoded data removed]",
      "text/latex": [
       "$\\displaystyle s_{t} = \\sum_{i=0}^{k - 1} t{\\left(i \\right)}$"
      ],
      "text/plain": [
       "     k - 1     \n",
       "      ___      \n",
       "      ╲        \n",
       "       ╲       \n",
       "sₜ =   ╱   t(i)\n",
       "      ╱        \n",
       "      ‾‾‾      \n",
       "     i = 0     "
      ]
     },
     "metadata": {},
     "output_type": "display_data"
    },
    {
     "data": {
      "image/png": "[encoded data removed]",
      "text/latex": [
       "$\\displaystyle s_{t2} = \\sum_{i=0}^{k - 1} t^{2}{\\left(i \\right)}$"
      ],
      "text/plain": [
       "      k - 1      \n",
       "       ___       \n",
       "       ╲         \n",
       "        ╲    2   \n",
       "sₜ₂ =   ╱   t (i)\n",
       "       ╱         \n",
       "       ‾‾‾       \n",
       "      i = 0      "
      ]
     },
     "metadata": {},
     "output_type": "display_data"
    },
    {
     "data": {
      "image/png": "[encoded data removed]",
      "text/latex": [
       "$\\displaystyle s_{t3} = \\sum_{i=0}^{k - 1} t^{3}{\\left(i \\right)}$"
      ],
      "text/plain": [
       "      k - 1      \n",
       "       ___       \n",
       "       ╲         \n",
       "        ╲    3   \n",
       "sₜ₃ =   ╱   t (i)\n",
       "       ╱         \n",
       "       ‾‾‾       \n",
       "      i = 0      "
      ]
     },
     "metadata": {},
     "output_type": "display_data"
    },
    {
     "data": {
      "image/png": "[encoded data removed]",
      "text/latex": [
       "$\\displaystyle s_{t4} = \\sum_{i=0}^{k - 1} t^{4}{\\left(i \\right)}$"
      ],
      "text/plain": [
       "      k - 1      \n",
       "       ___       \n",
       "       ╲         \n",
       "        ╲    4   \n",
       "sₜ₄ =   ╱   t (i)\n",
       "       ╱         \n",
       "       ‾‾‾       \n",
       "      i = 0      "
      ]
     },
     "metadata": {},
     "output_type": "display_data"
    },
    {
     "data": {
      "image/png": "[encoded data removed]",
      "text/latex": [
       "$\\displaystyle s_{ty} = \\sum_{i=0}^{k - 1} t{\\left(i \\right)} y{\\left(i \\right)}$"
      ],
      "text/plain": [
       "       k - 1          \n",
       "        ___           \n",
       "        ╲             \n",
       "         ╲            \n",
       "s_ty =   ╱   t(i)⋅y(i)\n",
       "        ╱             \n",
       "        ‾‾‾           \n",
       "       i = 0          "
      ]
     },
     "metadata": {},
     "output_type": "display_data"
    },
    {
     "data": {
      "image/png": "[encoded data removed]",
      "text/latex": [
       "$\\displaystyle s_{t2y} = \\sum_{i=0}^{k - 1} t^{2}{\\left(i \\right)} y{\\left(i \\right)}$"
      ],
      "text/plain": [
       "        k - 1           \n",
       "         ___            \n",
       "         ╲              \n",
       "          ╲    2        \n",
       "s_t2y =   ╱   t (i)⋅y(i)\n",
       "         ╱              \n",
       "         ‾‾‾            \n",
       "        i = 0           "
      ]
     },
     "metadata": {},
     "output_type": "display_data"
    },
    {
     "data": {
      "image/png": "[encoded data removed]",
      "text/latex": [
       "$\\displaystyle s_{y} = \\sum_{i=0}^{k - 1} y{\\left(i \\right)}$"
      ],
      "text/plain": [
       "      k - 1     \n",
       "       ___      \n",
       "       ╲        \n",
       "        ╲       \n",
       "s_y =   ╱   y(i)\n",
       "       ╱        \n",
       "       ‾‾‾      \n",
       "      i = 0     "
      ]
     },
     "metadata": {},
     "output_type": "display_data"
    },
    {
     "data": {
      "image/png": "[encoded data removed]",
      "text/latex": [
       "$\\displaystyle s_{iy} = \\sum_{i=0}^{k - 1} i y{\\left(i \\right)}$"
      ],
      "text/plain": [
       "       k - 1       \n",
       "        ___        \n",
       "        ╲          \n",
       "         ╲         \n",
       "s_iy =   ╱   i⋅y(i)\n",
       "        ╱          \n",
       "        ‾‾‾        \n",
       "       i = 0       "
      ]
     },
     "metadata": {},
     "output_type": "display_data"
    },
    {
     "data": {
      "image/png": "[encoded data removed]",
      "text/latex": [
       "$\\displaystyle s_{i2y} = \\sum_{i=0}^{k - 1} i^{2} y{\\left(i \\right)}$"
      ],
      "text/plain": [
       "        k - 1        \n",
       "         ___         \n",
       "         ╲           \n",
       "          ╲    2     \n",
       "s_i2y =   ╱   i ⋅y(i)\n",
       "         ╱           \n",
       "         ‾‾‾         \n",
       "        i = 0        "
      ]
     },
     "metadata": {},
     "output_type": "display_data"
    }
   ],
   "source": [
    "substitutions = { name: Sum(expr, (i, 0, k-1)) for (name, expr) in [\n",
    "    (s_t, t(i)),\n",
    "    (s_t2, t(i)**2),\n",
    "    (s_t3, t(i)**3),\n",
    "    (s_t4, t(i)**4),\n",
    "    (s_ty, t(i) * y(i)),\n",
    "    (s_t2y, t(i)**2 * y(i)),\n",
    "    (s_y, y(i)),\n",
    "    (s_iy, i * y(i)),\n",
    "    (s_i2y, i**2 * y(i)),\n",
    "]}\n",
    "display_dict(substitutions)"
   ]
  },
  {
   "cell_type": "code",
   "execution_count": 18,
   "id": "56dabb59",
   "metadata": {},
   "outputs": [
    {
     "data": {
      "image/png": "[encoded data removed]",
      "text/latex": [
       "$\\displaystyle p_{0} = \\frac{2 \\cdot \\left(2 k s_{y} - 3 s_{iy} - s_{y}\\right)}{k \\left(k + 1\\right)}$"
      ],
      "text/plain": [
       "     2⋅(2⋅k⋅s_y - 3⋅s_iy - s_y)\n",
       "p₀ = ──────────────────────────\n",
       "             k⋅(k + 1)         "
      ]
     },
     "metadata": {},
     "output_type": "display_data"
    },
    {
     "data": {
      "image/png": "[encoded data removed]",
      "text/latex": [
       "$\\displaystyle p_{1} = \\frac{6 \\left(k s_{y} - 2 s_{iy} - s_{y}\\right)}{k Δt \\left(k^{2} - 1\\right)}$"
      ],
      "text/plain": [
       "     6⋅(k⋅s_y - 2⋅s_iy - s_y)\n",
       "p₁ = ────────────────────────\n",
       "               ⎛ 2    ⎞      \n",
       "          k⋅Δt⋅⎝k  - 1⎠      "
      ]
     },
     "metadata": {},
     "output_type": "display_data"
    }
   ],
   "source": [
    "substituted_solution = {\n",
    "    name: (\n",
    "        expr\n",
    "        .subs([\n",
    "            (expr, substitution)\n",
    "            for (substitution, expr)\n",
    "            in substitutions.items()\n",
    "        ])\n",
    "        .simplify()\n",
    "        .subs(substitutions)\n",
    "        .subs(t(i), -i * dt)\n",
    "        .doit()\n",
    "        .subs([\n",
    "            (expr, substitution)\n",
    "            for (substitution, expr)\n",
    "            in substitutions.items()\n",
    "        ])\n",
    "        .simplify()\n",
    "        .subs([\n",
    "            (expr, substitution)\n",
    "            for (substitution, expr)\n",
    "            in substitutions.items()\n",
    "        ])\n",
    "        .simplify()\n",
    "    )\n",
    "    for (name, expr) in solution.items()\n",
    "}\n",
    "display_dict(substituted_solution)"
   ]
  },
  {
   "cell_type": "code",
   "execution_count": 19,
   "id": "65c67a0d",
   "metadata": {},
   "outputs": [],
   "source": [
    "def factor_subexpressions(expr, variable):\n",
    "    if expr.free_symbols == {variable}:\n",
    "        return expr.factor()\n",
    "    elif len(expr.args) > 0:\n",
    "        return expr.func(\n",
    "            *[factor_subexpressions(arg, variable) for arg in expr.args]\n",
    "        )\n",
    "    else:\n",
    "        return expr"
   ]
  },
  {
   "cell_type": "code",
   "execution_count": 20,
   "id": "f57fc873",
   "metadata": {
    "scrolled": true
   },
   "outputs": [
    {
     "data": {
      "image/png": "[encoded data removed]",
      "text/latex": [
       "$\\displaystyle p_{0} = \\frac{2 \\left(- 3 s_{iy} + s_{y} \\left(2 k - 1\\right)\\right)}{k \\left(k + 1\\right)}$"
      ],
      "text/plain": [
       "     2⋅(-3⋅s_iy + s_y⋅(2⋅k - 1))\n",
       "p₀ = ───────────────────────────\n",
       "              k⋅(k + 1)         "
      ]
     },
     "metadata": {},
     "output_type": "display_data"
    },
    {
     "data": {
      "image/png": "[encoded data removed]",
      "text/latex": [
       "$\\displaystyle p_{1} = \\frac{6 \\left(- 2 s_{iy} + s_{y} \\left(k - 1\\right)\\right)}{k Δt \\left(k - 1\\right) \\left(k + 1\\right)}$"
      ],
      "text/plain": [
       "     6⋅(-2⋅s_iy + s_y⋅(k - 1))\n",
       "p₁ = ─────────────────────────\n",
       "        k⋅Δt⋅(k - 1)⋅(k + 1)  "
      ]
     },
     "metadata": {},
     "output_type": "display_data"
    }
   ],
   "source": [
    "factored_solution = {\n",
    "    var: factor_subexpressions(\n",
    "        expr.collect(\n",
    "            list(substitutions.keys())\n",
    "        ),\n",
    "        k\n",
    "    )\n",
    "    for (var, expr)\n",
    "    in substituted_solution.items()\n",
    "}\n",
    "display_dict(factored_solution)"
   ]
  },
  {
   "cell_type": "code",
   "execution_count": null,
   "id": "d05f4918",
   "metadata": {},
   "outputs": [],
   "source": []
  }
 ],
 "metadata": {
  "kernelspec": {
   "display_name": "Python 3 (ipykernel)",
   "language": "python",
   "name": "python3"
  },
  "language_info": {
   "codemirror_mode": {
    "name": "ipython",
    "version": 3
   },
   "file_extension": ".py",
   "mimetype": "text/x-python",
   "name": "python",
   "nbconvert_exporter": "python",
   "pygments_lexer": "ipython3",
   "version": "3.10.11"
  }
 },
 "nbformat": 4,
 "nbformat_minor": 5
}
