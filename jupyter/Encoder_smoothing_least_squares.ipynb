{
 "cells": [
  {
   "cell_type": "markdown",
   "id": "34d7533a",
   "metadata": {},
   "source": [
    "# Encoder Smoothing least squares fit"
   ]
  },
  {
   "cell_type": "code",
   "execution_count": 1,
   "id": "6f79f44d",
   "metadata": {},
   "outputs": [],
   "source": [
    "import sympy\n",
    "import numpy\n",
    "import math\n",
    "import io\n",
    "\n",
    "import matplotlib.pyplot as plt"
   ]
  },
  {
   "cell_type": "code",
   "execution_count": 2,
   "id": "74e4576a",
   "metadata": {
    "scrolled": true
   },
   "outputs": [
    {
     "name": "stdout",
     "output_type": "stream",
     "text": [
      "IPython console for SymPy 1.12 (Python 3.11.4-64-bit) (ground types: python)\n",
      "\n",
      "These commands were executed:\n",
      ">>> from sympy import *\n",
      ">>> x, y, z, t = symbols('x y z t')\n",
      ">>> k, m, n = symbols('k m n', integer=True)\n",
      ">>> f, g, h = symbols('f g h', cls=Function)\n",
      ">>> init_printing()\n",
      "\n",
      "Documentation can be found at https://docs.sympy.org/1.12/\n",
      "\n"
     ]
    }
   ],
   "source": [
    "sympy.init_session()"
   ]
  },
  {
   "cell_type": "code",
   "execution_count": 3,
   "id": "9c1fe2e5-588f-465d-b05c-33e81a241036",
   "metadata": {},
   "outputs": [],
   "source": [
    "%matplotlib inline"
   ]
  },
  {
   "cell_type": "code",
   "execution_count": 4,
   "id": "88f24b7f-9d61-45a6-847d-0b36603fa227",
   "metadata": {},
   "outputs": [],
   "source": [
    "plt.rcParams['figure.figsize'] = [12, 6]"
   ]
  },
  {
   "cell_type": "code",
   "execution_count": 5,
   "id": "bbf72ec3",
   "metadata": {},
   "outputs": [],
   "source": [
    "def display_dict(d):\n",
    "    \"\"\" Display a dict of variable: expression (eg. a result of solve)\"\"\"\n",
    "    for v, expr in d.items():\n",
    "        display(Eq(v, expr))"
   ]
  },
  {
   "cell_type": "code",
   "execution_count": 6,
   "id": "fbfd8f78",
   "metadata": {},
   "outputs": [],
   "source": [
    "def factor_sums(expr):\n",
    "    def cSum(s):\n",
    "      con, dep = factor_terms(s.function.as_independent(*s.variables))\n",
    "      return con*Sum(dep, *s.args[1:])\n",
    "\n",
    "    return expr.expand().replace(lambda s: isinstance(s, Sum), lambda s: cSum(s))"
   ]
  },
  {
   "cell_type": "code",
   "execution_count": 7,
   "id": "12e86998",
   "metadata": {},
   "outputs": [
    {
     "data": {
      "image/png": "[encoded data removed]",
      "text/latex": [
       "$\\displaystyle Δt$"
      ],
      "text/plain": [
       "Δt"
      ]
     },
     "execution_count": 7,
     "metadata": {},
     "output_type": "execute_result"
    }
   ],
   "source": [
    "dt = Symbol(\"Δt\")\n",
    "dt"
   ]
  },
  {
   "cell_type": "code",
   "execution_count": 8,
   "id": "72c130e9",
   "metadata": {},
   "outputs": [
    {
     "data": {
      "image/png": "[encoded data removed]",
      "text/latex": [
       "$\\displaystyle \\left( a, \\  v, \\  x, \\  p_{0}, \\  p_{1}, \\  p_{2}, \\  s_{t}, \\  s_{t2}, \\  s_{t3}, \\  s_{t4}, \\  s_{y}, \\  s_{yy}, \\  s_{ty}, \\  s_{t2y}, \\  s_{iy}, \\  s_{i2y}, \\  \\theta\\right)$"
      ],
      "text/plain": [
       "(a, v, x, p₀, p₁, p₂, sₜ, sₜ₂, sₜ₃, sₜ₄, s_y, s_yy, s_ty, s_t2y, s_iy, s_i2y, \n",
       "θ)"
      ]
     },
     "execution_count": 8,
     "metadata": {},
     "output_type": "execute_result"
    }
   ],
   "source": [
    "var(\"a, v, x, p0, p1, p2, s_t, s_t2, s_t3, s_t4, s_y, s_yy, s_ty, s_t2y, s_iy, s_i2y, theta\", real=True)"
   ]
  },
  {
   "cell_type": "code",
   "execution_count": 9,
   "id": "3f7faeb7",
   "metadata": {},
   "outputs": [
    {
     "data": {
      "image/png": "[encoded data removed]",
      "text/latex": [
       "$\\displaystyle \\left( i, \\  j, \\  k\\right)$"
      ],
      "text/plain": [
       "(i, j, k)"
      ]
     },
     "execution_count": 9,
     "metadata": {},
     "output_type": "execute_result"
    }
   ],
   "source": [
    "var(\"i, j, k\", integer=True)"
   ]
  },
  {
   "cell_type": "code",
   "execution_count": 10,
   "id": "feddbf83",
   "metadata": {},
   "outputs": [],
   "source": [
    "y = Function(\"y\", real=True)"
   ]
  },
  {
   "cell_type": "code",
   "execution_count": 11,
   "id": "f97d120e",
   "metadata": {},
   "outputs": [],
   "source": [
    "t = Function(\"t\", real=True)"
   ]
  },
  {
   "cell_type": "code",
   "execution_count": 12,
   "id": "4bd3242f",
   "metadata": {},
   "outputs": [],
   "source": [
    "def interpolation_function(t):\n",
    "    return p0 + p1 * t# + p2 * t**2"
   ]
  },
  {
   "cell_type": "code",
   "execution_count": 13,
   "id": "646e9486",
   "metadata": {},
   "outputs": [],
   "source": [
    "variables = [p0, p1, p2]"
   ]
  },
  {
   "cell_type": "code",
   "execution_count": 14,
   "id": "dacce9a4",
   "metadata": {},
   "outputs": [
    {
     "data": {
      "image/png": "[encoded data removed]",
      "text/latex": [
       "$\\displaystyle \\sum_{i=0}^{k - 1} \\left(p_{0} + p_{1} t{\\left(i \\right)} - y{\\left(i \\right)}\\right)^{2}$"
      ],
      "text/plain": [
       "k - 1                       \n",
       " ___                        \n",
       " ╲                          \n",
       "  ╲                        2\n",
       "  ╱   (p₀ + p₁⋅t(i) - y(i)) \n",
       " ╱                          \n",
       " ‾‾‾                        \n",
       "i = 0                       "
      ]
     },
     "execution_count": 14,
     "metadata": {},
     "output_type": "execute_result"
    }
   ],
   "source": [
    "error = Sum((interpolation_function(t(i)) - y(i))**2, (i, 0, k-1))\n",
    "error"
   ]
  },
  {
   "cell_type": "code",
   "execution_count": 15,
   "id": "8bd13abb",
   "metadata": {},
   "outputs": [],
   "source": [
    "#error = error.subs(y(i), (y(i) - y(i - 1)))\n",
    "#error"
   ]
  },
  {
   "cell_type": "code",
   "execution_count": 16,
   "id": "43a95e2c",
   "metadata": {},
   "outputs": [
    {
     "data": {
      "image/png": "[encoded data removed]",
      "text/latex": [
       "$\\displaystyle \\left[ 2 k p_{0} + 2 p_{1} \\sum_{i=0}^{k - 1} t{\\left(i \\right)} - 2 \\sum_{i=0}^{k - 1} y{\\left(i \\right)}, \\  2 p_{0} \\sum_{i=0}^{k - 1} t{\\left(i \\right)} + 2 p_{1} \\sum_{i=0}^{k - 1} t^{2}{\\left(i \\right)} - 2 \\sum_{i=0}^{k - 1} t{\\left(i \\right)} y{\\left(i \\right)}, \\  0\\right]$"
      ],
      "text/plain": [
       "⎡              k - 1          k - 1            k - 1             k - 1        \n",
       "⎢               ___            ___              ___               ___         \n",
       "⎢               ╲              ╲                ╲                 ╲           \n",
       "⎢                ╲              ╲                ╲                 ╲    2     \n",
       "⎢2⋅k⋅p₀ + 2⋅p₁⋅  ╱   t(i) - 2⋅  ╱   y(i), 2⋅p₀⋅  ╱   t(i) + 2⋅p₁⋅  ╱   t (i) -\n",
       "⎢               ╱              ╱                ╱                 ╱           \n",
       "⎢               ‾‾‾            ‾‾‾              ‾‾‾               ‾‾‾         \n",
       "⎣              i = 0          i = 0            i = 0             i = 0        \n",
       "\n",
       "   k - 1             ⎤\n",
       "    ___              ⎥\n",
       "    ╲                ⎥\n",
       "     ╲               ⎥\n",
       " 2⋅  ╱   t(i)⋅y(i), 0⎥\n",
       "    ╱                ⎥\n",
       "    ‾‾‾              ⎥\n",
       "   i = 0             ⎦"
      ]
     },
     "execution_count": 16,
     "metadata": {},
     "output_type": "execute_result"
    }
   ],
   "source": [
    "eqs = [factor_sums(diff(error, var)).doit() for var in variables]\n",
    "eqs"
   ]
  },
  {
   "cell_type": "code",
   "execution_count": 17,
   "id": "43688d85",
   "metadata": {
    "tags": []
   },
   "outputs": [
    {
     "data": {
      "image/png": "[encoded data removed]",
      "text/latex": [
       "$\\displaystyle p_{0} = - \\frac{\\left(\\sum_{i=0}^{k - 1} t{\\left(i \\right)} y{\\left(i \\right)}\\right) \\sum_{i=0}^{k - 1} t{\\left(i \\right)}}{k \\sum_{i=0}^{k - 1} t^{2}{\\left(i \\right)} - \\left(\\sum_{i=0}^{k - 1} t{\\left(i \\right)}\\right)^{2}} + \\frac{\\left(\\sum_{i=0}^{k - 1} t^{2}{\\left(i \\right)}\\right) \\sum_{i=0}^{k - 1} y{\\left(i \\right)}}{k \\sum_{i=0}^{k - 1} t^{2}{\\left(i \\right)} - \\left(\\sum_{i=0}^{k - 1} t{\\left(i \\right)}\\right)^{2}}$"
      ],
      "text/plain": [
       "         k - 1           k - 1             k - 1       k - 1        \n",
       "          ___             ___               ___         ___         \n",
       "          ╲               ╲                 ╲           ╲           \n",
       "           ╲               ╲                 ╲    2      ╲          \n",
       "           ╱   t(i)⋅y(i)⋅  ╱   t(i)          ╱   t (i)⋅  ╱   y(i)   \n",
       "          ╱               ╱                 ╱           ╱           \n",
       "          ‾‾‾             ‾‾‾               ‾‾‾         ‾‾‾         \n",
       "         i = 0           i = 0             i = 0       i = 0        \n",
       "p₀ = - ───────────────────────────── + ─────────────────────────────\n",
       "                                   2                               2\n",
       "         k - 1         ⎛k - 1     ⎞      k - 1         ⎛k - 1     ⎞ \n",
       "          ___          ⎜ ___      ⎟       ___          ⎜ ___      ⎟ \n",
       "          ╲            ⎜ ╲        ⎟       ╲            ⎜ ╲        ⎟ \n",
       "           ╲    2      ⎜  ╲       ⎟        ╲    2      ⎜  ╲       ⎟ \n",
       "       k⋅  ╱   t (i) - ⎜  ╱   t(i)⎟    k⋅  ╱   t (i) - ⎜  ╱   t(i)⎟ \n",
       "          ╱            ⎜ ╱        ⎟       ╱            ⎜ ╱        ⎟ \n",
       "          ‾‾‾          ⎜ ‾‾‾      ⎟       ‾‾‾          ⎜ ‾‾‾      ⎟ \n",
       "         i = 0         ⎝i = 0     ⎠      i = 0         ⎝i = 0     ⎠ "
      ]
     },
     "metadata": {},
     "output_type": "display_data"
    },
    {
     "data": {
      "image/png": "[encoded data removed]",
      "text/latex": [
       "$\\displaystyle p_{1} = \\frac{k \\sum_{i=0}^{k - 1} t{\\left(i \\right)} y{\\left(i \\right)}}{k \\sum_{i=0}^{k - 1} t^{2}{\\left(i \\right)} - \\left(\\sum_{i=0}^{k - 1} t{\\left(i \\right)}\\right)^{2}} - \\frac{\\left(\\sum_{i=0}^{k - 1} t{\\left(i \\right)}\\right) \\sum_{i=0}^{k - 1} y{\\left(i \\right)}}{k \\sum_{i=0}^{k - 1} t^{2}{\\left(i \\right)} - \\left(\\sum_{i=0}^{k - 1} t{\\left(i \\right)}\\right)^{2}}$"
      ],
      "text/plain": [
       "             k - 1                       k - 1      k - 1         \n",
       "              ___                         ___        ___          \n",
       "              ╲                           ╲          ╲            \n",
       "               ╲                           ╲          ╲           \n",
       "           k⋅  ╱   t(i)⋅y(i)               ╱   t(i)⋅  ╱   y(i)    \n",
       "              ╱                           ╱          ╱            \n",
       "              ‾‾‾                         ‾‾‾        ‾‾‾          \n",
       "             i = 0                       i = 0      i = 0         \n",
       "p₁ = ───────────────────────────── - ─────────────────────────────\n",
       "                                 2                               2\n",
       "       k - 1         ⎛k - 1     ⎞      k - 1         ⎛k - 1     ⎞ \n",
       "        ___          ⎜ ___      ⎟       ___          ⎜ ___      ⎟ \n",
       "        ╲            ⎜ ╲        ⎟       ╲            ⎜ ╲        ⎟ \n",
       "         ╲    2      ⎜  ╲       ⎟        ╲    2      ⎜  ╲       ⎟ \n",
       "     k⋅  ╱   t (i) - ⎜  ╱   t(i)⎟    k⋅  ╱   t (i) - ⎜  ╱   t(i)⎟ \n",
       "        ╱            ⎜ ╱        ⎟       ╱            ⎜ ╱        ⎟ \n",
       "        ‾‾‾          ⎜ ‾‾‾      ⎟       ‾‾‾          ⎜ ‾‾‾      ⎟ \n",
       "       i = 0         ⎝i = 0     ⎠      i = 0         ⎝i = 0     ⎠ "
      ]
     },
     "metadata": {},
     "output_type": "display_data"
    }
   ],
   "source": [
    "solution = solve(eqs, variables)\n",
    "display_dict(solution)"
   ]
  },
  {
   "cell_type": "code",
   "execution_count": 18,
   "id": "0c91585a",
   "metadata": {
    "tags": []
   },
   "outputs": [
    {
     "data": {
      "image/png": "[encoded data removed]",
      "text/latex": [
       "$\\displaystyle s_{t} = \\sum_{i=0}^{k - 1} t{\\left(i \\right)}$"
      ],
      "text/plain": [
       "     k - 1     \n",
       "      ___      \n",
       "      ╲        \n",
       "       ╲       \n",
       "sₜ =   ╱   t(i)\n",
       "      ╱        \n",
       "      ‾‾‾      \n",
       "     i = 0     "
      ]
     },
     "metadata": {},
     "output_type": "display_data"
    },
    {
     "data": {
      "image/png": "[encoded data removed]",
      "text/latex": [
       "$\\displaystyle s_{t2} = \\sum_{i=0}^{k - 1} t^{2}{\\left(i \\right)}$"
      ],
      "text/plain": [
       "      k - 1      \n",
       "       ___       \n",
       "       ╲         \n",
       "        ╲    2   \n",
       "sₜ₂ =   ╱   t (i)\n",
       "       ╱         \n",
       "       ‾‾‾       \n",
       "      i = 0      "
      ]
     },
     "metadata": {},
     "output_type": "display_data"
    },
    {
     "data": {
      "image/png": "[encoded data removed]",
      "text/latex": [
       "$\\displaystyle s_{t3} = \\sum_{i=0}^{k - 1} t^{3}{\\left(i \\right)}$"
      ],
      "text/plain": [
       "      k - 1      \n",
       "       ___       \n",
       "       ╲         \n",
       "        ╲    3   \n",
       "sₜ₃ =   ╱   t (i)\n",
       "       ╱         \n",
       "       ‾‾‾       \n",
       "      i = 0      "
      ]
     },
     "metadata": {},
     "output_type": "display_data"
    },
    {
     "data": {
      "image/png": "[encoded data removed]",
      "text/latex": [
       "$\\displaystyle s_{t4} = \\sum_{i=0}^{k - 1} t^{4}{\\left(i \\right)}$"
      ],
      "text/plain": [
       "      k - 1      \n",
       "       ___       \n",
       "       ╲         \n",
       "        ╲    4   \n",
       "sₜ₄ =   ╱   t (i)\n",
       "       ╱         \n",
       "       ‾‾‾       \n",
       "      i = 0      "
      ]
     },
     "metadata": {},
     "output_type": "display_data"
    },
    {
     "data": {
      "image/png": "[encoded data removed]",
      "text/latex": [
       "$\\displaystyle s_{ty} = \\sum_{i=0}^{k - 1} t{\\left(i \\right)} y{\\left(i \\right)}$"
      ],
      "text/plain": [
       "       k - 1          \n",
       "        ___           \n",
       "        ╲             \n",
       "         ╲            \n",
       "s_ty =   ╱   t(i)⋅y(i)\n",
       "        ╱             \n",
       "        ‾‾‾           \n",
       "       i = 0          "
      ]
     },
     "metadata": {},
     "output_type": "display_data"
    },
    {
     "data": {
      "image/png": "[encoded data removed]",
      "text/latex": [
       "$\\displaystyle s_{t2y} = \\sum_{i=0}^{k - 1} t^{2}{\\left(i \\right)} y{\\left(i \\right)}$"
      ],
      "text/plain": [
       "        k - 1           \n",
       "         ___            \n",
       "         ╲              \n",
       "          ╲    2        \n",
       "s_t2y =   ╱   t (i)⋅y(i)\n",
       "         ╱              \n",
       "         ‾‾‾            \n",
       "        i = 0           "
      ]
     },
     "metadata": {},
     "output_type": "display_data"
    },
    {
     "data": {
      "image/png": "[encoded data removed]",
      "text/latex": [
       "$\\displaystyle s_{y} = \\sum_{i=0}^{k - 1} y{\\left(i \\right)}$"
      ],
      "text/plain": [
       "      k - 1     \n",
       "       ___      \n",
       "       ╲        \n",
       "        ╲       \n",
       "s_y =   ╱   y(i)\n",
       "       ╱        \n",
       "       ‾‾‾      \n",
       "      i = 0     "
      ]
     },
     "metadata": {},
     "output_type": "display_data"
    },
    {
     "data": {
      "image/png": "[encoded data removed]",
      "text/latex": [
       "$\\displaystyle s_{yy} = \\sum_{i=0}^{k - 1} y^{2}{\\left(i \\right)}$"
      ],
      "text/plain": [
       "       k - 1      \n",
       "        ___       \n",
       "        ╲         \n",
       "         ╲    2   \n",
       "s_yy =   ╱   y (i)\n",
       "        ╱         \n",
       "        ‾‾‾       \n",
       "       i = 0      "
      ]
     },
     "metadata": {},
     "output_type": "display_data"
    },
    {
     "data": {
      "image/png": "[encoded data removed]",
      "text/latex": [
       "$\\displaystyle s_{iy} = \\sum_{i=0}^{k - 1} i y{\\left(i \\right)}$"
      ],
      "text/plain": [
       "       k - 1       \n",
       "        ___        \n",
       "        ╲          \n",
       "         ╲         \n",
       "s_iy =   ╱   i⋅y(i)\n",
       "        ╱          \n",
       "        ‾‾‾        \n",
       "       i = 0       "
      ]
     },
     "metadata": {},
     "output_type": "display_data"
    },
    {
     "data": {
      "image/png": "[encoded data removed]",
      "text/latex": [
       "$\\displaystyle s_{i2y} = \\sum_{i=0}^{k - 1} i^{2} y{\\left(i \\right)}$"
      ],
      "text/plain": [
       "        k - 1        \n",
       "         ___         \n",
       "         ╲           \n",
       "          ╲    2     \n",
       "s_i2y =   ╱   i ⋅y(i)\n",
       "         ╱           \n",
       "         ‾‾‾         \n",
       "        i = 0        "
      ]
     },
     "metadata": {},
     "output_type": "display_data"
    }
   ],
   "source": [
    "substitutions = { name: Sum(expr, (i, 0, k-1)) for (name, expr) in [\n",
    "    (s_t, t(i)),\n",
    "    (s_t2, t(i)**2),\n",
    "    (s_t3, t(i)**3),\n",
    "    (s_t4, t(i)**4),\n",
    "    (s_ty, t(i) * y(i)),\n",
    "    (s_t2y, t(i)**2 * y(i)),\n",
    "    (s_y, y(i)),\n",
    "    (s_yy, y(i)**2),\n",
    "    (s_iy, i * y(i)),\n",
    "    (s_i2y, i**2 * y(i)),\n",
    "]}\n",
    "display_dict(substitutions)"
   ]
  },
  {
   "cell_type": "code",
   "execution_count": 19,
   "id": "56dabb59",
   "metadata": {
    "tags": []
   },
   "outputs": [
    {
     "data": {
      "image/png": "[encoded data removed]",
      "text/latex": [
       "$\\displaystyle p_{0} = \\frac{2 \\cdot \\left(2 k s_{y} - 3 s_{iy} - s_{y}\\right)}{k \\left(k + 1\\right)}$"
      ],
      "text/plain": [
       "     2⋅(2⋅k⋅s_y - 3⋅s_iy - s_y)\n",
       "p₀ = ──────────────────────────\n",
       "             k⋅(k + 1)         "
      ]
     },
     "metadata": {},
     "output_type": "display_data"
    },
    {
     "data": {
      "image/png": "[encoded data removed]",
      "text/latex": [
       "$\\displaystyle p_{1} = \\frac{6 \\left(k s_{y} - 2 s_{iy} - s_{y}\\right)}{k Δt \\left(k^{2} - 1\\right)}$"
      ],
      "text/plain": [
       "     6⋅(k⋅s_y - 2⋅s_iy - s_y)\n",
       "p₁ = ────────────────────────\n",
       "               ⎛ 2    ⎞      \n",
       "          k⋅Δt⋅⎝k  - 1⎠      "
      ]
     },
     "metadata": {},
     "output_type": "display_data"
    }
   ],
   "source": [
    "substituted_solution = {\n",
    "    name: (\n",
    "        expr\n",
    "        .subs([\n",
    "            (expr, substitution)\n",
    "            for (substitution, expr)\n",
    "            in substitutions.items()\n",
    "        ])\n",
    "        .simplify()\n",
    "        .subs(substitutions)\n",
    "        .replace(t, lambda i: -i * dt)\n",
    "        .doit()\n",
    "        .subs([\n",
    "            (expr, substitution)\n",
    "            for (substitution, expr)\n",
    "            in substitutions.items()\n",
    "        ])\n",
    "        .simplify()\n",
    "        .subs([\n",
    "            (expr, substitution)\n",
    "            for (substitution, expr)\n",
    "            in substitutions.items()\n",
    "        ])\n",
    "        .simplify()\n",
    "    )\n",
    "    for (name, expr) in solution.items()\n",
    "}\n",
    "display_dict(substituted_solution)"
   ]
  },
  {
   "cell_type": "code",
   "execution_count": 20,
   "id": "65c67a0d",
   "metadata": {},
   "outputs": [],
   "source": [
    "def factor_subexpressions(expr, variable):\n",
    "    expr = expr.collect(expr.free_symbols - {variable})\n",
    "    if expr.free_symbols == {variable}:\n",
    "        return expr.factor()\n",
    "    elif len(expr.args) > 0:\n",
    "        return expr.func(\n",
    "            *[factor_subexpressions(arg, variable) for arg in expr.args]\n",
    "        )\n",
    "    else:\n",
    "        return expr"
   ]
  },
  {
   "cell_type": "code",
   "execution_count": 21,
   "id": "f57fc873",
   "metadata": {
    "scrolled": true
   },
   "outputs": [
    {
     "data": {
      "image/png": "[encoded data removed]",
      "text/latex": [
       "$\\displaystyle p_{0} = \\frac{2 \\left(- 3 s_{iy} + s_{y} \\left(2 k - 1\\right)\\right)}{k \\left(k + 1\\right)}$"
      ],
      "text/plain": [
       "     2⋅(-3⋅s_iy + s_y⋅(2⋅k - 1))\n",
       "p₀ = ───────────────────────────\n",
       "              k⋅(k + 1)         "
      ]
     },
     "metadata": {},
     "output_type": "display_data"
    },
    {
     "data": {
      "image/png": "[encoded data removed]",
      "text/latex": [
       "$\\displaystyle p_{1} = \\frac{6 \\left(- 2 s_{iy} + s_{y} \\left(k - 1\\right)\\right)}{k Δt \\left(k - 1\\right) \\left(k + 1\\right)}$"
      ],
      "text/plain": [
       "     6⋅(-2⋅s_iy + s_y⋅(k - 1))\n",
       "p₁ = ─────────────────────────\n",
       "        k⋅Δt⋅(k - 1)⋅(k + 1)  "
      ]
     },
     "metadata": {},
     "output_type": "display_data"
    }
   ],
   "source": [
    "factored_solution = {\n",
    "    var: factor_subexpressions(\n",
    "        expr,\n",
    "        k\n",
    "    )\n",
    "    for (var, expr)\n",
    "    in substituted_solution.items()\n",
    "}\n",
    "display_dict(factored_solution)"
   ]
  },
  {
   "cell_type": "markdown",
   "id": "dc06b00e-a66f-4ecc-8928-c4a93f589040",
   "metadata": {},
   "source": [
    "## Condition for operation\n",
    "We want to verify that during the operation the fitting error is small."
   ]
  },
  {
   "cell_type": "code",
   "execution_count": 22,
   "id": "d05f4918",
   "metadata": {},
   "outputs": [
    {
     "data": {
      "image/png": "[encoded data removed]",
      "text/latex": [
       "$\\displaystyle \\frac{k s_{yy} \\left(k - 1\\right) \\left(k + 1\\right) - 12 s_{iy}^{2} + 12 s_{iy} s_{y} \\left(k - 1\\right) - 2 s_{y}^{2} \\left(k - 1\\right) \\left(2 k - 1\\right)}{k \\left(k - 1\\right) \\left(k + 1\\right)}$"
      ],
      "text/plain": [
       "                                2                              2              \n",
       "k⋅s_yy⋅(k - 1)⋅(k + 1) - 12⋅s_iy  + 12⋅s_iy⋅s_y⋅(k - 1) - 2⋅s_y ⋅(k - 1)⋅(2⋅k \n",
       "──────────────────────────────────────────────────────────────────────────────\n",
       "                                k⋅(k - 1)⋅(k + 1)                             \n",
       "\n",
       "    \n",
       "- 1)\n",
       "────\n",
       "    "
      ]
     },
     "metadata": {},
     "output_type": "display_data"
    }
   ],
   "source": [
    "sum_of_squared_residuals = factor_subexpressions(\n",
    "    factor_sums(\n",
    "        Sum((interpolation_function(t(j)) - y(j))**2, (j, 0, k-1))\n",
    "        .subs(solution)\n",
    "        .replace(t, lambda i: -i * dt)\n",
    "        .expand()\n",
    "        .doit()\n",
    "    )\n",
    "    .subs([\n",
    "        (expr, substitution)\n",
    "        for (substitution, expr)\n",
    "        in substitutions.items()\n",
    "    ])\n",
    "    .subs(Sum(j * y(j), (j, 0, k-1)), s_iy)\n",
    "    .subs(Sum(y(j), (j, 0, k-1)), s_y)\n",
    "    .subs(Sum(y(j)**2, (j, 0, k-1)), s_yy)\n",
    "    .simplify(),\n",
    "    k\n",
    ")\n",
    "display(sum_of_squared_residuals)"
   ]
  },
  {
   "cell_type": "code",
   "execution_count": 23,
   "id": "6f5c3864-3d40-4093-8cba-b9f74787f457",
   "metadata": {
    "tags": []
   },
   "outputs": [
    {
     "data": {
      "image/png": "[encoded data removed]",
      "text/latex": [
       "$\\displaystyle \\sqrt{\\frac{k s_{yy} \\left(k - 1\\right) \\left(k + 1\\right) - 12 s_{iy}^{2} + 12 s_{iy} s_{y} \\left(k - 1\\right) - 2 s_{y}^{2} \\left(k - 1\\right) \\left(2 k - 1\\right)}{k^{2} \\left(k - 1\\right) \\left(k + 1\\right)}}$"
      ],
      "text/plain": [
       "      ________________________________________________________________________\n",
       "     ╱                                 2                              2       \n",
       "    ╱  k⋅s_yy⋅(k - 1)⋅(k + 1) - 12⋅s_iy  + 12⋅s_iy⋅s_y⋅(k - 1) - 2⋅s_y ⋅(k - 1\n",
       "   ╱   ───────────────────────────────────────────────────────────────────────\n",
       "  ╱                                     2                                     \n",
       "╲╱                                     k ⋅(k - 1)⋅(k + 1)                     \n",
       "\n",
       "____________\n",
       "            \n",
       ")⋅(2⋅k - 1) \n",
       "─────────── \n",
       "            \n",
       "            "
      ]
     },
     "metadata": {},
     "output_type": "display_data"
    }
   ],
   "source": [
    "fit_rmse = sqrt(sum_of_squared_residuals / k)\n",
    "display(fit_rmse)"
   ]
  },
  {
   "cell_type": "code",
   "execution_count": 24,
   "id": "7255792a-9be7-4000-be8e-f022daebf7f5",
   "metadata": {
    "tags": []
   },
   "outputs": [],
   "source": [
    "def multiply_both_sides(expr, mul):\n",
    "    return expr.func(expr.lhs * mul, expr.rhs * mul).simplify()\n",
    "def add_to_both_sides(expr, add):\n",
    "    return expr.func(expr.lhs + add, expr.rhs + add).simplify()\n",
    "def apply_both_sides(expr, fun):\n",
    "    return expr.func(fun(expr.lhs), fun(expr.rhs)).simplify()\n",
    "def rel_to_zero(expr):\n",
    "    return expr.func(expr.lhs - expr.rhs, 0)"
   ]
  },
  {
   "cell_type": "markdown",
   "id": "2bf19a6f-5535-453e-b567-67985a89a2a7",
   "metadata": {},
   "source": [
    "The actual condition; keep contracting the window while this is true:"
   ]
  },
  {
   "cell_type": "code",
   "execution_count": 25,
   "id": "addda700-7456-40c5-93ce-75178a06680e",
   "metadata": {
    "tags": []
   },
   "outputs": [
    {
     "data": {
      "image/png": "[encoded data removed]",
      "text/latex": [
       "$\\displaystyle \\sqrt{\\frac{k s_{yy} \\left(k - 1\\right) \\left(k + 1\\right) - 12 s_{iy}^{2} + 12 s_{iy} s_{y} \\left(k - 1\\right) - 2 s_{y}^{2} \\left(k - 1\\right) \\left(2 k - 1\\right)}{k^{2} \\left(k - 1\\right) \\left(k + 1\\right)}} > \\theta$"
      ],
      "text/plain": [
       "      ________________________________________________________________________\n",
       "     ╱                                 2                              2       \n",
       "    ╱  k⋅s_yy⋅(k - 1)⋅(k + 1) - 12⋅s_iy  + 12⋅s_iy⋅s_y⋅(k - 1) - 2⋅s_y ⋅(k - 1\n",
       "   ╱   ───────────────────────────────────────────────────────────────────────\n",
       "  ╱                                     2                                     \n",
       "╲╱                                     k ⋅(k - 1)⋅(k + 1)                     \n",
       "\n",
       "____________    \n",
       "                \n",
       ")⋅(2⋅k - 1)     \n",
       "───────────  > θ\n",
       "                \n",
       "                "
      ]
     },
     "execution_count": 25,
     "metadata": {},
     "output_type": "execute_result"
    }
   ],
   "source": [
    "high_residuals_condition = fit_rmse > theta\n",
    "high_residuals_condition"
   ]
  },
  {
   "cell_type": "code",
   "execution_count": 26,
   "id": "ae8e7ddb-fe74-45b0-9662-859d501d0e3a",
   "metadata": {
    "tags": []
   },
   "outputs": [
    {
     "data": {
      "image/png": "[encoded data removed]",
      "text/latex": [
       "$\\displaystyle 0$"
      ],
      "text/plain": [
       "0"
      ]
     },
     "execution_count": 26,
     "metadata": {},
     "output_type": "execute_result"
    }
   ],
   "source": [
    "fit_rmse.subs({k: 2, s_y: 11, s_yy: 121, s_iy: 0})"
   ]
  },
  {
   "cell_type": "code",
   "execution_count": 27,
   "id": "bcc597b7-cc76-4d0f-bba9-d1c40ef657be",
   "metadata": {},
   "outputs": [
    {
     "data": {
      "image/png": "[encoded data removed]",
      "text/latex": [
       "$\\displaystyle k^{2} \\theta^{2} \\left(k - 1\\right) \\left(k + 1\\right) - k s_{yy} \\left(k - 1\\right) \\left(k + 1\\right) + 12 s_{iy}^{2} - 12 s_{iy} s_{y} \\left(k - 1\\right) + 2 s_{y}^{2} \\left(k - 1\\right) \\left(2 k - 1\\right) < 0$"
      ],
      "text/plain": [
       " 2  2                                                   2                     \n",
       "k ⋅θ ⋅(k - 1)⋅(k + 1) - k⋅s_yy⋅(k - 1)⋅(k + 1) + 12⋅s_iy  - 12⋅s_iy⋅s_y⋅(k - 1\n",
       "\n",
       "         2                      \n",
       ") + 2⋅s_y ⋅(k - 1)⋅(2⋅k - 1) < 0"
      ]
     },
     "execution_count": 27,
     "metadata": {},
     "output_type": "execute_result"
    }
   ],
   "source": [
    "apply_both_sides(\n",
    "    rel_to_zero(\n",
    "        multiply_both_sides(\n",
    "            apply_both_sides(\n",
    "                high_residuals_condition,\n",
    "                lambda expr: expr**2\n",
    "            ),\n",
    "            k * k * (k - 1) * (k + 1)\n",
    "        )\n",
    "    ).expand(),\n",
    "    lambda expr: factor_subexpressions(expr, k)\n",
    ")"
   ]
  },
  {
   "cell_type": "markdown",
   "id": "99b2d505-f702-4704-b154-4b7a3f726c6c",
   "metadata": {
    "tags": []
   },
   "source": [
    "## Value ranges"
   ]
  },
  {
   "cell_type": "code",
   "execution_count": 28,
   "id": "6c41cfda-2c1b-489e-85d8-e9eb6c14aca6",
   "metadata": {
    "tags": []
   },
   "outputs": [],
   "source": [
    "def bits(x):\n",
    "    return math.floor(math.log2(x) + 1)"
   ]
  },
  {
   "cell_type": "code",
   "execution_count": 29,
   "id": "68506477-d182-4cf8-b6a0-e0cf9a4eba89",
   "metadata": {
    "tags": []
   },
   "outputs": [
    {
     "data": {
      "image/png": "[encoded data removed]",
      "text/latex": [
       "$\\displaystyle 0.149599650170943$"
      ],
      "text/plain": [
       "0.149599650170943"
      ]
     },
     "execution_count": 29,
     "metadata": {},
     "output_type": "execute_result"
    }
   ],
   "source": [
    "encoder_tick = (40e-3 * pi / (14 * 2 * 30)).evalf()\n",
    "encoder_tick * 1e3"
   ]
  },
  {
   "cell_type": "markdown",
   "id": "b88e0d8a-952c-4a22-8b2a-6ca3428df3f2",
   "metadata": {},
   "source": [
    "Maximum speed [m/s]:"
   ]
  },
  {
   "cell_type": "code",
   "execution_count": 30,
   "id": "23a65bcb-bbbc-4eac-9783-f56cbbdd9d96",
   "metadata": {},
   "outputs": [],
   "source": [
    "max_speed = 1.5"
   ]
  },
  {
   "cell_type": "markdown",
   "id": "0a7ea158-c147-4eb0-91fa-438af1ff8f27",
   "metadata": {},
   "source": [
    "Maximum speed in encoder ticks:"
   ]
  },
  {
   "cell_type": "code",
   "execution_count": 31,
   "id": "ff1730bc-2cc4-44f2-bc9a-7d5375222835",
   "metadata": {
    "tags": []
   },
   "outputs": [
    {
     "data": {
      "image/png": "[encoded data removed]",
      "text/latex": [
       "$\\displaystyle 10027$"
      ],
      "text/plain": [
       "10027"
      ]
     },
     "execution_count": 31,
     "metadata": {},
     "output_type": "execute_result"
    }
   ],
   "source": [
    "max_speed_raw = math.ceil(max_speed / encoder_tick)\n",
    "max_speed_raw"
   ]
  },
  {
   "cell_type": "code",
   "execution_count": 32,
   "id": "3a87dfb9-fca2-4d4c-a8ca-7cdfc7479953",
   "metadata": {
    "tags": []
   },
   "outputs": [],
   "source": [
    "max_window_size = 16"
   ]
  },
  {
   "cell_type": "markdown",
   "id": "81bd79fa-dcc6-40d2-a8a9-fcc73fdf37df",
   "metadata": {
    "tags": []
   },
   "source": [
    "Number of bits needed for sum of velocities:"
   ]
  },
  {
   "cell_type": "code",
   "execution_count": 33,
   "id": "a0964729-634c-4f47-812c-2903982ded1e",
   "metadata": {
    "tags": []
   },
   "outputs": [
    {
     "data": {
      "image/png": "[encoded data removed]",
      "text/latex": [
       "$\\displaystyle 18$"
      ],
      "text/plain": [
       "18"
      ]
     },
     "execution_count": 33,
     "metadata": {},
     "output_type": "execute_result"
    }
   ],
   "source": [
    "max_s_y = max_window_size * max_speed_raw\n",
    "bits(max_s_y)"
   ]
  },
  {
   "cell_type": "markdown",
   "id": "22375872-52e5-451a-b359-5080af02f1d0",
   "metadata": {},
   "source": [
    "Number of bits needed for the sum of squared velocities:"
   ]
  },
  {
   "cell_type": "code",
   "execution_count": 34,
   "id": "4e351728-4496-4e2b-81ea-442fea309ae1",
   "metadata": {
    "tags": []
   },
   "outputs": [
    {
     "data": {
      "image/png": "[encoded data removed]",
      "text/latex": [
       "$\\displaystyle 31$"
      ],
      "text/plain": [
       "31"
      ]
     },
     "execution_count": 34,
     "metadata": {},
     "output_type": "execute_result"
    }
   ],
   "source": [
    "max_s_yy = max_window_size * max_speed_raw**2\n",
    "bits(max_s_yy)"
   ]
  },
  {
   "cell_type": "markdown",
   "id": "247ed6a7-22d3-4c97-a979-2defb3bb4a78",
   "metadata": {},
   "source": [
    "Number of bits needed for the index sum:"
   ]
  },
  {
   "cell_type": "code",
   "execution_count": 35,
   "id": "4fef4c0d-47b9-4a76-b6be-fadbdad2fb6b",
   "metadata": {
    "tags": []
   },
   "outputs": [
    {
     "data": {
      "image/png": "[encoded data removed]",
      "text/latex": [
       "$\\displaystyle 21$"
      ],
      "text/plain": [
       "21"
      ]
     },
     "execution_count": 35,
     "metadata": {},
     "output_type": "execute_result"
    }
   ],
   "source": [
    "max_s_iy = Sum(i * max_speed_raw, (i, 0, max_window_size - 1)).evalf()\n",
    "bits(max_s_iy)"
   ]
  },
  {
   "cell_type": "markdown",
   "id": "9b2f322c-e66c-4167-8ad7-c86984e657c4",
   "metadata": {},
   "source": [
    "Scaling:"
   ]
  },
  {
   "cell_type": "code",
   "execution_count": 36,
   "id": "65fce33c-c8cd-4c30-baf8-7290391df0cb",
   "metadata": {},
   "outputs": [],
   "source": [
    "velocity_scale = 1 << 9\n",
    "acceleration_scale = 1 << 10"
   ]
  },
  {
   "cell_type": "markdown",
   "id": "f57f3d07-a0a3-4ce7-8b14-fcfa1b3c67f4",
   "metadata": {},
   "source": [
    "Velocity fraction numerator:"
   ]
  },
  {
   "cell_type": "code",
   "execution_count": 37,
   "id": "dfbecb49-bac1-40ba-aa74-4a2bc2445135",
   "metadata": {
    "jupyter": {
     "source_hidden": true
    },
    "tags": []
   },
   "outputs": [],
   "source": [
    "def max_sum_thing(expr):\n",
    "    expr = (\n",
    "        expr\n",
    "        .subs(substitutions)\n",
    "        .simplify()\n",
    "    )\n",
    "    \n",
    "    #return expr\n",
    "    \n",
    "    a = Wild(\"a\")\n",
    "    b = Wild(\"b\")\n",
    "    \n",
    "    return expr \\\n",
    "        .replace(a * y(b), abs(a) * y(b)) \\\n",
    "        .subs(y(i), max_speed_raw) \\\n",
    "        .subs(k, max_window_size) \\\n",
    "        .evalf()"
   ]
  },
  {
   "cell_type": "code",
   "execution_count": 38,
   "id": "0323f006-9cf4-49cc-90a1-57410e9ae9f6",
   "metadata": {
    "tags": []
   },
   "outputs": [
    {
     "data": {
      "image/png": "[encoded data removed]",
      "text/latex": [
       "$\\displaystyle 31$"
      ],
      "text/plain": [
       "31"
      ]
     },
     "execution_count": 38,
     "metadata": {},
     "output_type": "execute_result"
    }
   ],
   "source": [
    "bits(velocity_scale * max_sum_thing(2 * max_window_size * s_y - s_y - 3 * s_iy))"
   ]
  },
  {
   "cell_type": "markdown",
   "id": "3fdaf49e-04f9-4605-a7ea-b89f0181d654",
   "metadata": {},
   "source": [
    "Acceleration fraction numerator:"
   ]
  },
  {
   "cell_type": "code",
   "execution_count": 39,
   "id": "58e0cc67-e70a-4ac2-a9f5-6b391425c444",
   "metadata": {
    "tags": []
   },
   "outputs": [
    {
     "data": {
      "image/png": "[encoded data removed]",
      "text/latex": [
       "$\\displaystyle 31$"
      ],
      "text/plain": [
       "31"
      ]
     },
     "execution_count": 39,
     "metadata": {},
     "output_type": "execute_result"
    }
   ],
   "source": [
    "bits(acceleration_scale * max_sum_thing(max_window_size * s_y - s_y - 2 * s_iy))"
   ]
  },
  {
   "cell_type": "markdown",
   "id": "1970fb7d-e616-4b21-ada8-10fb701b894b",
   "metadata": {},
   "source": [
    "Speed resolution @ 100Hz sample rate [$mm/$]:"
   ]
  },
  {
   "cell_type": "code",
   "execution_count": 40,
   "id": "a57c4c3b-e8f1-4756-b451-0a3c3f959a23",
   "metadata": {
    "tags": []
   },
   "outputs": [
    {
     "data": {
      "image/png": "[encoded data removed]",
      "text/latex": [
       "$\\displaystyle 0.0292186816740122$"
      ],
      "text/plain": [
       "0.0292186816740122"
      ]
     },
     "execution_count": 40,
     "metadata": {},
     "output_type": "execute_result"
    }
   ],
   "source": [
    "1e3 * encoder_tick * 100 / velocity_scale"
   ]
  },
  {
   "cell_type": "markdown",
   "id": "81b55b1d-9f0b-4af9-a3ec-986e6514ccb5",
   "metadata": {},
   "source": [
    "Velocity resolution @ 100Hz sample rate [$mm/s^2$]"
   ]
  },
  {
   "cell_type": "code",
   "execution_count": 41,
   "id": "b5c15047-6b37-41b6-883b-434ea68a3419",
   "metadata": {},
   "outputs": [
    {
     "data": {
      "image/png": "[encoded data removed]",
      "text/latex": [
       "$\\displaystyle 1.46093408370061$"
      ],
      "text/plain": [
       "1.46093408370061"
      ]
     },
     "execution_count": 41,
     "metadata": {},
     "output_type": "execute_result"
    }
   ],
   "source": [
    "1e3 * encoder_tick * 100**2 / acceleration_scale"
   ]
  },
  {
   "cell_type": "markdown",
   "id": "631ccd2b-7478-4a1e-a192-6e47286cdfe0",
   "metadata": {},
   "source": [
    "## Plotting from CSV"
   ]
  },
  {
   "cell_type": "code",
   "execution_count": 42,
   "id": "b01c677c-fdac-43bd-bf48-30e72179b17e",
   "metadata": {
    "jupyter": {
     "source_hidden": true
    }
   },
   "outputs": [],
   "source": [
    "# Raw velocity, smoothed velocity, smoothed acceleration, smoothing window size\n",
    "# Alternating left and right motor\n",
    "data = r\"\"\"-1,-116,-22,16\n",
    "0,0,0,16\n",
    "0,-105,-19,16\n",
    "0,0,0,16\n",
    "0,-94,-16,16\n",
    "0,0,0,16\n",
    "0,-82,-13,16\n",
    "0,0,0,16\n",
    "0,-71,-10,16\n",
    "0,0,0,16\n",
    "0,-60,-7,16\n",
    "0,0,0,16\n",
    "0,-48,-4,16\n",
    "0,0,0,16\n",
    "0,-37,-1,16\n",
    "0,0,0,16\n",
    "-1,-143,-21,16\n",
    "0,0,0,16\n",
    "0,-120,-15,16\n",
    "0,0,0,16\n",
    "-1,-214,-31,16\n",
    "0,0,0,16\n",
    "0,-180,-22,16\n",
    "0,0,0,16\n",
    "0,-146,-13,16\n",
    "0,0,0,16\n",
    "0,-112,-4,16\n",
    "0,0,0,16\n",
    "0,-79,5,16\n",
    "0,0,0,16\n",
    "0,-45,14,16\n",
    "0,0,0,16\n",
    "0,-75,-3,16\n",
    "0,0,0,16\n",
    "0,-52,3,16\n",
    "0,0,0,16\n",
    "0,-30,9,16\n",
    "0,0,0,16\n",
    "0,-7,15,16\n",
    "0,0,0,16\n",
    "3,1536,3072,2\n",
    "0,0,0,16\n",
    "10,5120,7168,2\n",
    "0,0,0,16\n",
    "22,11264,12288,2\n",
    "0,0,0,16\n",
    "36,18261,13312,3\n",
    "0,0,0,16\n",
    "51,26027,14848,3\n",
    "0,0,0,16\n",
    "70,35840,19456,2\n",
    "0,0,0,16\n",
    "74,37888,4096,2\n",
    "0,0,0,16\n",
    "72,36864,-2048,2\n",
    "0,0,0,16\n",
    "70,35840,-2048,3\n",
    "0,0,0,16\n",
    "68,34816,-2048,4\n",
    "0,0,0,16\n",
    "66,33792,-2048,5\n",
    "0,0,0,16\n",
    "64,32768,-2048,6\n",
    "0,0,0,16\n",
    "62,31744,-2048,7\n",
    "0,0,0,16\n",
    "61,30933,-1962,8\n",
    "0,0,0,16\n",
    "59,30049,-1928,9\n",
    "0,0,0,16\n",
    "58,29296,-1861,10\n",
    "0,0,0,16\n",
    "55,28300,-1880,11\n",
    "0,0,0,16\n",
    "54,27445,-1858,12\n",
    "0,0,0,16\n",
    "53,26686,-1817,13\n",
    "0,0,0,16\n",
    "51,25863,-1798,14\n",
    "0,0,0,16\n",
    "49,24994,-1792,15\n",
    "0,0,0,16\n",
    "48,24260,-1748,15\n",
    "0,0,0,16\n",
    "47,23599,-1693,15\n",
    "0,0,0,16\n",
    "45,22818,-1680,16\n",
    "0,0,0,16\n",
    "44,22155,-1635,16\n",
    "0,0,0,16\n",
    "42,21425,-1608,16\n",
    "0,0,0,16\n",
    "40,20627,-1599,16\n",
    "0,0,0,16\n",
    "39,19878,-1585,16\n",
    "0,0,0,16\n",
    "37,19049,-1593,16\n",
    "0,0,0,16\n",
    "35,18206,-1596,16\n",
    "0,0,0,16\n",
    "34,17412,-1594,16\n",
    "0,0,0,16\n",
    "33,16719,-1566,16\n",
    "0,0,0,16\n",
    "31,15883,-1584,16\n",
    "0,0,0,16\n",
    "30,15138,-1578,16\n",
    "0,0,0,16\n",
    "29,14483,-1548,16\n",
    "0,0,0,16\n",
    "27,13737,-1542,16\n",
    "0,0,0,16\n",
    "26,13018,-1537,16\n",
    "0,0,0,16\n",
    "24,12262,-1534,16\n",
    "0,0,0,16\n",
    "23,11595,-1507,16\n",
    "0,0,0,16\n",
    "22,10955,-1481,16\n",
    "0,0,0,16\n",
    "21,10394,-1435,16\n",
    "0,0,0,16\n",
    "19,9732,-1415,16\n",
    "0,0,0,16\n",
    "18,9084,-1400,16\n",
    "0,0,0,16\n",
    "17,8504,-1367,16\n",
    "0,0,0,16\n",
    "16,7928,-1341,16\n",
    "0,0,0,16\n",
    "14,7228,-1349,16\n",
    "0,0,0,16\n",
    "13,6584,-1341,16\n",
    "0,0,0,16\n",
    "12,5997,-1319,16\n",
    "0,0,0,16\n",
    "11,5402,-1307,16\n",
    "0,0,0,16\n",
    "10,4853,-1283,16\n",
    "0,0,0,16\n",
    "8,4232,-1269,16\n",
    "0,0,0,16\n",
    "7,3603,-1266,16\n",
    "0,0,0,16\n",
    "6,3019,-1251,16\n",
    "0,0,0,16\n",
    "4,2300,-1272,16\n",
    "0,0,0,16\n",
    "4,1743,-1258,16\n",
    "0,0,0,16\n",
    "2,1103,-1258,16\n",
    "0,0,0,16\n",
    "1,508,-1246,16\n",
    "0,0,0,16\n",
    "0,-105,-1248,16\n",
    "0,0,0,16\n",
    "0,-568,-1218,16\n",
    "0,0,0,16\n",
    "0,-204,-512,5\n",
    "0,0,0,16\n",
    "0,-219,-380,6\n",
    "0,0,0,16\n",
    "0,-219,-292,7\n",
    "0,0,0,16\n",
    "0,-213,-231,8\n",
    "0,0,0,16\n",
    "0,-204,-187,9\n",
    "0,0,0,16\n",
    "0,-195,-155,10\n",
    "0,0,0,16\n",
    "0,-186,-130,11\n",
    "0,0,0,16\n",
    "0,-177,-110,12\n",
    "0,0,0,16\n",
    "0,-168,-95,13\n",
    "0,0,0,16\n",
    "0,-160,-83,14\n",
    "0,0,0,16\n",
    "0,-153,-73,15\n",
    "0,0,0,16\n",
    "0,-146,-64,16\n",
    "0,0,0,16\n",
    "0,-52,-22,16\n",
    "\"\"\""
   ]
  },
  {
   "cell_type": "code",
   "execution_count": 43,
   "id": "48ea64b9-3eaa-4d2d-810a-67ed8462a9b2",
   "metadata": {
    "scrolled": true
   },
   "outputs": [
    {
     "data": {
      "text/plain": [
       "array([[   -1,  -116,   -22,    16],\n",
       "       [    0,  -105,   -19,    16],\n",
       "       [    0,   -94,   -16,    16],\n",
       "       [    0,   -82,   -13,    16],\n",
       "       [    0,   -71,   -10,    16],\n",
       "       [    0,   -60,    -7,    16],\n",
       "       [    0,   -48,    -4,    16],\n",
       "       [    0,   -37,    -1,    16],\n",
       "       [   -1,  -143,   -21,    16],\n",
       "       [    0,  -120,   -15,    16],\n",
       "       [   -1,  -214,   -31,    16],\n",
       "       [    0,  -180,   -22,    16],\n",
       "       [    0,  -146,   -13,    16],\n",
       "       [    0,  -112,    -4,    16],\n",
       "       [    0,   -79,     5,    16],\n",
       "       [    0,   -45,    14,    16],\n",
       "       [    0,   -75,    -3,    16],\n",
       "       [    0,   -52,     3,    16],\n",
       "       [    0,   -30,     9,    16],\n",
       "       [    0,    -7,    15,    16],\n",
       "       [    3,  1536,  3072,     2],\n",
       "       [   10,  5120,  7168,     2],\n",
       "       [   22, 11264, 12288,     2],\n",
       "       [   36, 18261, 13312,     3],\n",
       "       [   51, 26027, 14848,     3],\n",
       "       [   70, 35840, 19456,     2],\n",
       "       [   74, 37888,  4096,     2],\n",
       "       [   72, 36864, -2048,     2],\n",
       "       [   70, 35840, -2048,     3],\n",
       "       [   68, 34816, -2048,     4],\n",
       "       [   66, 33792, -2048,     5],\n",
       "       [   64, 32768, -2048,     6],\n",
       "       [   62, 31744, -2048,     7],\n",
       "       [   61, 30933, -1962,     8],\n",
       "       [   59, 30049, -1928,     9],\n",
       "       [   58, 29296, -1861,    10],\n",
       "       [   55, 28300, -1880,    11],\n",
       "       [   54, 27445, -1858,    12],\n",
       "       [   53, 26686, -1817,    13],\n",
       "       [   51, 25863, -1798,    14],\n",
       "       [   49, 24994, -1792,    15],\n",
       "       [   48, 24260, -1748,    15],\n",
       "       [   47, 23599, -1693,    15],\n",
       "       [   45, 22818, -1680,    16],\n",
       "       [   44, 22155, -1635,    16],\n",
       "       [   42, 21425, -1608,    16],\n",
       "       [   40, 20627, -1599,    16],\n",
       "       [   39, 19878, -1585,    16],\n",
       "       [   37, 19049, -1593,    16],\n",
       "       [   35, 18206, -1596,    16],\n",
       "       [   34, 17412, -1594,    16],\n",
       "       [   33, 16719, -1566,    16],\n",
       "       [   31, 15883, -1584,    16],\n",
       "       [   30, 15138, -1578,    16],\n",
       "       [   29, 14483, -1548,    16],\n",
       "       [   27, 13737, -1542,    16],\n",
       "       [   26, 13018, -1537,    16],\n",
       "       [   24, 12262, -1534,    16],\n",
       "       [   23, 11595, -1507,    16],\n",
       "       [   22, 10955, -1481,    16],\n",
       "       [   21, 10394, -1435,    16],\n",
       "       [   19,  9732, -1415,    16],\n",
       "       [   18,  9084, -1400,    16],\n",
       "       [   17,  8504, -1367,    16],\n",
       "       [   16,  7928, -1341,    16],\n",
       "       [   14,  7228, -1349,    16],\n",
       "       [   13,  6584, -1341,    16],\n",
       "       [   12,  5997, -1319,    16],\n",
       "       [   11,  5402, -1307,    16],\n",
       "       [   10,  4853, -1283,    16],\n",
       "       [    8,  4232, -1269,    16],\n",
       "       [    7,  3603, -1266,    16],\n",
       "       [    6,  3019, -1251,    16],\n",
       "       [    4,  2300, -1272,    16],\n",
       "       [    4,  1743, -1258,    16],\n",
       "       [    2,  1103, -1258,    16],\n",
       "       [    1,   508, -1246,    16],\n",
       "       [    0,  -105, -1248,    16],\n",
       "       [    0,  -568, -1218,    16],\n",
       "       [    0,  -204,  -512,     5],\n",
       "       [    0,  -219,  -380,     6],\n",
       "       [    0,  -219,  -292,     7],\n",
       "       [    0,  -213,  -231,     8],\n",
       "       [    0,  -204,  -187,     9],\n",
       "       [    0,  -195,  -155,    10],\n",
       "       [    0,  -186,  -130,    11],\n",
       "       [    0,  -177,  -110,    12],\n",
       "       [    0,  -168,   -95,    13],\n",
       "       [    0,  -160,   -83,    14],\n",
       "       [    0,  -153,   -73,    15],\n",
       "       [    0,  -146,   -64,    16],\n",
       "       [    0,   -52,   -22,    16]], dtype=int32)"
      ]
     },
     "execution_count": 43,
     "metadata": {},
     "output_type": "execute_result"
    }
   ],
   "source": [
    "data_np = numpy.genfromtxt(io.StringIO(data), delimiter=\",\", dtype=numpy.int32)[::2]\n",
    "data_np"
   ]
  },
  {
   "cell_type": "code",
   "execution_count": 44,
   "id": "a98b56c7-063d-4b58-bb9a-6ec26a8ed7e6",
   "metadata": {},
   "outputs": [
    {
     "data": {
      "image/png": "[encoded data removed]",
      "text/plain": [
       "<Figure size 1200x600 with 3 Axes>"
      ]
     },
     "metadata": {},
     "output_type": "display_data"
    }
   ],
   "source": [
    "fig, ax1 = plt.subplots()\n",
    "\n",
    "ax1.plot(data_np[:,0] * 1e3 * encoder_tick, \"r-\", label=\"Raw measured velocity\")\n",
    "ax1.plot(data_np[:,1] * 1e3 * encoder_tick / velocity_scale, \"g-\", label=\"Smoothed velocity\")\n",
    "ax1.grid()\n",
    "ax1.set(ylabel=\"Velocity [mm/s]\")\n",
    "\n",
    "ax2 = ax1.twinx()\n",
    "ax2.plot(data_np[:,2] * 1e3 * encoder_tick / acceleration_scale, \"b-\", label=\"Smoothed acceleration\")\n",
    "ax2.set(ylabel=\"Acceleration [mm/s^2]\")\n",
    "\n",
    "ax3 = ax1.twinx()\n",
    "ax3.spines.right.set_position((\"axes\", 1.15))\n",
    "ax3.plot(data_np[:,3], \"y-\", label=\"Smoothing window size\")\n",
    "ax3.set(ylabel=\"Smoothing window size\")\n",
    "\n",
    "fig.tight_layout()\n",
    "fig.legend()\n",
    "\n",
    "plt.show()"
   ]
  }
 ],
 "metadata": {
  "kernelspec": {
   "display_name": "Python 3 (ipykernel)",
   "language": "python",
   "name": "python3"
  },
  "language_info": {
   "codemirror_mode": {
    "name": "ipython",
    "version": 3
   },
   "file_extension": ".py",
   "mimetype": "text/x-python",
   "name": "python",
   "nbconvert_exporter": "python",
   "pygments_lexer": "ipython3",
   "version": "3.11.4"
  }
 },
 "nbformat": 4,
 "nbformat_minor": 5
}
